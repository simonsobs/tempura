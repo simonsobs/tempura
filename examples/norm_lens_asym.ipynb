{
 "cells": [
  {
   "cell_type": "markdown",
   "metadata": {},
   "source": [
    "# A simple example of lensing estimator normalization calculation (Asymmetric estimator)\n",
    "This code compute normalization of quadratic estiamtors"
   ]
  },
  {
   "cell_type": "code",
   "execution_count": 1,
   "metadata": {},
   "outputs": [],
   "source": [
    "# external\n",
    "import numpy as np, sys\n",
    "from matplotlib.pyplot import *"
   ]
  },
  {
   "cell_type": "code",
   "execution_count": 2,
   "metadata": {},
   "outputs": [],
   "source": [
    "# add path to tempura\n",
    "path_to_tempura = \"/global/homes/t/toshiyan/Work/Lib/tempura_dev/\" # please change this path\n",
    "sys.path.append(path_to_tempura) # example\n",
    "import pytempura as cs"
   ]
  },
  {
   "cell_type": "markdown",
   "metadata": {},
   "source": [
    "First define parameters"
   ]
  },
  {
   "cell_type": "code",
   "execution_count": 67,
   "metadata": {},
   "outputs": [],
   "source": [
    "Tcmb  = 2.726e6    # CMB temperature\n",
    "Lmax  = 3000       # maximum multipole of output normalization\n",
    "lmax  = 3000\n",
    "rlmin, rlmax = 2, 3000  # CMB multipole range for reconstruction\n",
    "glmin, glmax = 2, 3000\n",
    "llmin, llmax = 2, 3000\n",
    "L = np.linspace(0,Lmax,Lmax+1)\n",
    "l = L.copy()\n",
    "Lfac = (L*(L+1.))**2/2./np.pi"
   ]
  },
  {
   "cell_type": "markdown",
   "metadata": {},
   "source": [
    "Load arrays of lensed CMB Cls. The Cls should not be multiplied by any factors and should not have units.  "
   ]
  },
  {
   "cell_type": "code",
   "execution_count": 48,
   "metadata": {},
   "outputs": [],
   "source": [
    "lcl = np.zeros((4,lmax+1)) # TT, EE, BB, TE\n",
    "lcl[:,2:] = np.loadtxt('data/lensedcls.dat',unpack=True,usecols=(1,2,3,4))[:,:lmax-1] \n",
    "lcl *= 2.*np.pi / (l**2+l+1e-30) / Tcmb**2\n",
    "ucl = np.zeros((5,lmax+1)) # TT, EE, TE, pp, Tp\n",
    "ucl[:,2:] = np.loadtxt('data/unlensedcls.dat',unpack=True,usecols=(1,2,3,4,5))[:,:lmax-1] "
   ]
  },
  {
   "cell_type": "markdown",
   "metadata": {},
   "source": [
    "Define observed CMB cls. Here, two CMB noise (high and low resolution)."
   ]
  },
  {
   "cell_type": "code",
   "execution_count": 77,
   "metadata": {},
   "outputs": [
    {
     "name": "stderr",
     "output_type": "stream",
     "text": [
      "/global/homes/t/toshiyan/.conda/envs/loc/lib/python3.7/site-packages/ipykernel_launcher.py:7: RuntimeWarning: divide by zero encountered in power\n",
      "  import sys\n"
     ]
    }
   ],
   "source": [
    "ac2rad = np.pi/10800.\n",
    "sigmaG = 40.\n",
    "sigmaL = 20.\n",
    "thetaG = 7.\n",
    "thetaL = 1.5\n",
    "nlG = (sigmaG*ac2rad/Tcmb)**2 * np.exp(L*(L+1.)*(thetaG*ac2rad)**2/8./np.log(2.))\n",
    "nlL = (sigmaL*ac2rad/Tcmb)**2 * np.exp(L*(L+1.)*(thetaL*ac2rad)**2/8./np.log(2.)) * (1+(L/3000.)**(-4.))\n",
    "nlL[:500] = 1e30"
   ]
  },
  {
   "cell_type": "code",
   "execution_count": 78,
   "metadata": {},
   "outputs": [],
   "source": [
    "oclG = lcl[0] + nlG # observed Cl\n",
    "oclL = lcl[0] + nlL"
   ]
  },
  {
   "cell_type": "markdown",
   "metadata": {},
   "source": [
    "### Compute normalization"
   ]
  },
  {
   "cell_type": "code",
   "execution_count": 79,
   "metadata": {},
   "outputs": [],
   "source": [
    "Ag0, Ac0 = cs.norm_general.qtt_asym('lens',Lmax,glmin,glmax,llmin,llmax,llmax,lcl[0,:],oclG,oclL)"
   ]
  },
  {
   "cell_type": "code",
   "execution_count": 80,
   "metadata": {},
   "outputs": [],
   "source": [
    "Ag1, Ac1 = cs.norm_lens.qtt(Lmax,rlmin,rlmax,lcl[0],oclL)\n",
    "Ag2, Ac2 = cs.norm_lens.qtt(Lmax,rlmin,rlmax,lcl[0],oclG)"
   ]
  },
  {
   "cell_type": "code",
   "execution_count": 81,
   "metadata": {},
   "outputs": [
    {
     "name": "stderr",
     "output_type": "stream",
     "text": [
      "/global/homes/t/toshiyan/.conda/envs/loc/lib/python3.7/site-packages/ipykernel_launcher.py:9: RuntimeWarning: invalid value encountered in true_divide\n",
      "  if __name__ == '__main__':\n"
     ]
    },
    {
     "data": {
      "image/png": "[encoded data removed]",
      "text/plain": [
       "<Figure size 432x288 with 1 Axes>"
      ]
     },
     "metadata": {
      "needs_background": "light"
     },
     "output_type": "display_data"
    }
   ],
   "source": [
    "# plot spectra (gradient)\n",
    "xlim(0,2500)\n",
    "ylim(1e-8,1e-6)\n",
    "#xscale('log')\n",
    "yscale('log')\n",
    "plot(L,Lfac*Ag0,label='asymmetric')\n",
    "plot(L,Lfac*Ag1,label='symmetric (high-high)')\n",
    "plot(L,Lfac*Ag2,label='symmetric (low-low)')\n",
    "plot(L,ucl[3]/Tcmb**2*(L+1)**2/(L**2)/4.,color='k')\n",
    "legend()\n",
    "savefig('test.png')"
   ]
  },
  {
   "cell_type": "code",
   "execution_count": null,
   "metadata": {},
   "outputs": [],
   "source": []
  }
 ],
 "metadata": {
  "kernelspec": {
   "display_name": "Python 3",
   "language": "python",
   "name": "python3"
  },
  "language_info": {
   "codemirror_mode": {
    "name": "ipython",
    "version": 3
   },
   "file_extension": ".py",
   "mimetype": "text/x-python",
   "name": "python",
   "nbconvert_exporter": "python",
   "pygments_lexer": "ipython3",
   "version": "3.7.2"
  }
 },
 "nbformat": 4,
 "nbformat_minor": 4
}
