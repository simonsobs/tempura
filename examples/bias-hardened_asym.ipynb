{
 "cells": [
  {
   "cell_type": "markdown",
   "metadata": {},
   "source": [
    "# Bias-hardened estimator for asymmetric estimator"
   ]
  },
  {
   "cell_type": "code",
   "execution_count": 1,
   "metadata": {},
   "outputs": [],
   "source": [
    "# external\n",
    "import numpy as np, sys\n",
    "from matplotlib.pyplot import *"
   ]
  },
  {
   "cell_type": "code",
   "execution_count": 2,
   "metadata": {},
   "outputs": [],
   "source": [
    "# add path to tempura\n",
    "path_to_tempura = \"/global/homes/t/toshiyan/Work/Lib/tempura_dev/\" # please change this path\n",
    "sys.path.append(path_to_tempura) # example\n",
    "import pytempura as cs"
   ]
  },
  {
   "cell_type": "markdown",
   "metadata": {},
   "source": [
    "First define parameters"
   ]
  },
  {
   "cell_type": "code",
   "execution_count": 3,
   "metadata": {},
   "outputs": [],
   "source": [
    "Tcmb  = 2.726e6    # CMB temperature\n",
    "Lmax  = 3000       # maximum multipole of output normalization\n",
    "lmax  = 3000\n",
    "rlmin, rlmax = 2, 3000  # CMB multipole range for reconstruction\n",
    "glmin, glmax = 2, 3000\n",
    "llmin, llmax = 2, 3000\n",
    "L = np.linspace(0,Lmax,Lmax+1)\n",
    "l = L.copy()\n",
    "Lfac = (L*(L+1.))**2/2./np.pi"
   ]
  },
  {
   "cell_type": "markdown",
   "metadata": {},
   "source": [
    "Load arrays of lensed CMB Cls. The Cls should not be multiplied by any factors and should not have units.  "
   ]
  },
  {
   "cell_type": "code",
   "execution_count": 4,
   "metadata": {},
   "outputs": [],
   "source": [
    "lcl = np.zeros((4,lmax+1)) # TT, EE, BB, TE\n",
    "lcl[:,2:] = np.loadtxt('data/lensedcls.dat',unpack=True,usecols=(1,2,3,4))[:,:lmax-1] \n",
    "lcl *= 2.*np.pi / (l**2+l+1e-30) / Tcmb**2\n",
    "ucl = np.zeros((5,lmax+1)) # TT, EE, TE, pp, Tp\n",
    "ucl[:,2:] = np.loadtxt('data/unlensedcls.dat',unpack=True,usecols=(1,2,3,4,5))[:,:lmax-1] "
   ]
  },
  {
   "cell_type": "markdown",
   "metadata": {},
   "source": [
    "Define observed CMB cls. Here, two CMB noise (high and low resolution)."
   ]
  },
  {
   "cell_type": "code",
   "execution_count": 5,
   "metadata": {},
   "outputs": [
    {
     "name": "stderr",
     "output_type": "stream",
     "text": [
      "/global/homes/t/toshiyan/.conda/envs/loc/lib/python3.7/site-packages/ipykernel_launcher.py:8: RuntimeWarning: divide by zero encountered in power\n",
      "  \n"
     ]
    }
   ],
   "source": [
    "ac2rad = np.pi/10800.\n",
    "sigmaG = 40.\n",
    "sigmaL = 20.\n",
    "thetaG = 7.\n",
    "thetaL = 1.5\n",
    "nlG = (sigmaG*ac2rad/Tcmb)**2 * np.exp(L*(L+1.)*(thetaG*ac2rad)**2/8./np.log(2.))\n",
    "nlL = (sigmaL*ac2rad/Tcmb)**2 * np.exp(L*(L+1.)*(thetaL*ac2rad)**2/8./np.log(2.))\n",
    "nlL *= (1+(L/3000.)**(-4.))\n",
    "nlL[:500] = 1e30"
   ]
  },
  {
   "cell_type": "code",
   "execution_count": 6,
   "metadata": {},
   "outputs": [],
   "source": [
    "oclG = lcl[0] + nlG # observed Cl\n",
    "oclL = lcl[0] + nlL"
   ]
  },
  {
   "cell_type": "markdown",
   "metadata": {
    "tags": []
   },
   "source": [
    "### Compute normalization and Response"
   ]
  },
  {
   "cell_type": "code",
   "execution_count": 7,
   "metadata": {},
   "outputs": [],
   "source": [
    "Akk = cs.norm_general.qtt_asym('lens',Lmax,glmin,glmax,llmin,llmax,llmax,lcl[0,:],oclG,oclL)[0]\n",
    "Ass = cs.norm_general.qtt_asym('src',Lmax,glmin,glmax,llmin,llmax,llmax,lcl[0,:],oclG,oclL)[0]"
   ]
  },
  {
   "cell_type": "code",
   "execution_count": 8,
   "metadata": {},
   "outputs": [
    {
     "data": {
      "text/plain": [
       "[<matplotlib.lines.Line2D at 0x2aaad0cab160>]"
      ]
     },
     "execution_count": 8,
     "metadata": {},
     "output_type": "execute_result"
    },
    {
     "data": {
      "image/png": "[encoded data removed]",
      "text/plain": [
       "<Figure size 432x288 with 1 Axes>"
      ]
     },
     "metadata": {
      "needs_background": "light"
     },
     "output_type": "display_data"
    }
   ],
   "source": [
    "# check\n",
    "Rsym  = cs.norm_general.xtt('lenssrc',Lmax,llmin,llmax,lcl[0,:],oclG)\n",
    "Rasym = cs.norm_general.xtt_asym('lenssrc',Lmax,glmin,glmax,llmin,llmax,llmax,lcl[0,:],oclG,oclG)\n",
    "plot(Rsym)\n",
    "plot(Rasym)"
   ]
  },
  {
   "cell_type": "code",
   "execution_count": 9,
   "metadata": {},
   "outputs": [],
   "source": [
    "# response of the asymmetric lensing estimator to source\n",
    "Rks = Akk*cs.norm_general.xtt_asym('lenssrc',Lmax,glmin,glmax,llmin,llmax,llmax,lcl[0,:],oclG,oclL)[0]\n",
    "# response of the asymmetric source estimator to lensing\n",
    "Rsk = Ass*cs.norm_general.xtt_asym('srclens',Lmax,glmin,glmax,llmin,llmax,llmax,lcl[0,:],oclG,oclL)[0]"
   ]
  },
  {
   "cell_type": "markdown",
   "metadata": {},
   "source": [
    "### Compute noise spectrum"
   ]
  },
  {
   "cell_type": "code",
   "execution_count": 10,
   "metadata": {},
   "outputs": [],
   "source": [
    "a0a1 = oclL.copy()\n",
    "b0b1 = oclG.copy()\n",
    "a0b1 = lcl[0]\n",
    "a1b0 = lcl[0]"
   ]
  },
  {
   "cell_type": "code",
   "execution_count": 11,
   "metadata": {},
   "outputs": [],
   "source": [
    "wx0  = 1./oclL\n",
    "wx1  = wx0.copy()\n",
    "wxy0 = np.zeros(rlmax+1)\n",
    "wxy0[rlmin:] = lcl[0][rlmin:]/oclG[rlmin:]\n",
    "wxy1 = wxy0.copy()"
   ]
  },
  {
   "cell_type": "code",
   "execution_count": 12,
   "metadata": {},
   "outputs": [],
   "source": [
    "Nkk = Akk**2*cs.noise_spec.qtt_asym('lens',Lmax,rlmin,rlmax,wx0,wxy0,wx1,wxy1,a0a1,b0b1,a0b1,a1b0)[0]"
   ]
  },
  {
   "cell_type": "code",
   "execution_count": 13,
   "metadata": {},
   "outputs": [
    {
     "name": "stderr",
     "output_type": "stream",
     "text": [
      "/global/homes/t/toshiyan/.conda/envs/loc/lib/python3.7/site-packages/ipykernel_launcher.py:1: RuntimeWarning: invalid value encountered in true_divide\n",
      "  \"\"\"Entry point for launching an IPython kernel.\n",
      "/global/homes/t/toshiyan/.conda/envs/loc/lib/python3.7/site-packages/ipykernel_launcher.py:2: RuntimeWarning: invalid value encountered in true_divide\n",
      "  \n"
     ]
    }
   ],
   "source": [
    "Wxy0 = wxy0/(2.*lcl[0])**2\n",
    "Wxy1 = wxy1/(2.*lcl[0])**2"
   ]
  },
  {
   "cell_type": "code",
   "execution_count": 14,
   "metadata": {},
   "outputs": [],
   "source": [
    "Nss = Ass**2*cs.noise_spec.qtt_asym('src',Lmax,rlmin,rlmax,wx0,Wxy0,wx1,Wxy1,a0a1,b0b1,a0b1,a1b0)[0]"
   ]
  },
  {
   "cell_type": "code",
   "execution_count": 15,
   "metadata": {},
   "outputs": [],
   "source": [
    "Nks = Akk*Ass*cs.noise_spec.xtt_asym('lenssrc',Lmax,rlmin,rlmax,wx0,wxy0,wx1,Wxy1,a0a1,b0b1,a0b1,a1b0)"
   ]
  },
  {
   "cell_type": "code",
   "execution_count": 16,
   "metadata": {},
   "outputs": [],
   "source": [
    "Nsk = Akk*Ass*cs.noise_spec.xtt_asym('srclens',Lmax,rlmin,rlmax,wx0,Wxy0,wx1,wxy1,a0a1,b0b1,a0b1,a1b0)"
   ]
  },
  {
   "cell_type": "code",
   "execution_count": 17,
   "metadata": {},
   "outputs": [
    {
     "data": {
      "text/plain": [
       "[<matplotlib.lines.Line2D at 0x2aaad3b9a588>]"
      ]
     },
     "execution_count": 17,
     "metadata": {},
     "output_type": "execute_result"
    },
    {
     "data": {
      "image/png": "[encoded data removed]",
      "text/plain": [
       "<Figure size 432x288 with 1 Axes>"
      ]
     },
     "metadata": {
      "needs_background": "light"
     },
     "output_type": "display_data"
    }
   ],
   "source": [
    "# the following two has to be equal\n",
    "plot(L,np.sqrt(Lfac)*Nks,label='lens x src')\n",
    "plot(L,np.sqrt(Lfac)*Nsk,label='src x lens')"
   ]
  },
  {
   "cell_type": "code",
   "execution_count": 18,
   "metadata": {},
   "outputs": [
    {
     "data": {
      "text/plain": [
       "<matplotlib.legend.Legend at 0x2aaaad425ba8>"
      ]
     },
     "execution_count": 18,
     "metadata": {},
     "output_type": "execute_result"
    },
    {
     "data": {
      "image/png": "[encoded data removed]",
      "text/plain": [
       "<Figure size 432x288 with 1 Axes>"
      ]
     },
     "metadata": {
      "needs_background": "light"
     },
     "output_type": "display_data"
    }
   ],
   "source": [
    "plot(L[1:],Nks[1:]/np.sqrt(Nkk[1:]*Nss[1:]),label='noise correlation coefficient')\n",
    "legend()"
   ]
  },
  {
   "cell_type": "code",
   "execution_count": 19,
   "metadata": {},
   "outputs": [],
   "source": [
    "# noise covariance\n",
    "Ncov = np.zeros((Lmax+1,2,2))\n",
    "Ncov[:,0,0] = Nkk\n",
    "Ncov[:,0,1] = Nks\n",
    "Ncov[:,1,0] = Nsk\n",
    "Ncov[:,1,1] = Nss"
   ]
  },
  {
   "cell_type": "code",
   "execution_count": 20,
   "metadata": {},
   "outputs": [],
   "source": [
    "# Response matrix\n",
    "Rmat = np.ones((Lmax+1,2,2))\n",
    "Rmat[:,0,1] = Rks\n",
    "Rmat[:,1,0] = Rsk\n",
    "IRmat = np.array([ np.linalg.inv(Rmat[Li,:,:]) for Li in range(Lmax+1) ])"
   ]
  },
  {
   "cell_type": "code",
   "execution_count": 21,
   "metadata": {},
   "outputs": [],
   "source": [
    "Nl_BH = np.array( [ np.dot(np.dot(IRmat[Li,:,:],Ncov[Li,:,:]),IRmat[Li,:,:].T) for Li in range(Lmax+1) ] )"
   ]
  },
  {
   "cell_type": "code",
   "execution_count": 22,
   "metadata": {},
   "outputs": [
    {
     "data": {
      "text/plain": [
       "<matplotlib.legend.Legend at 0x2aaad3b24be0>"
      ]
     },
     "execution_count": 22,
     "metadata": {},
     "output_type": "execute_result"
    },
    {
     "data": {
      "image/png": "[encoded data removed]",
      "text/plain": [
       "<Figure size 432x288 with 1 Axes>"
      ]
     },
     "metadata": {
      "needs_background": "light"
     },
     "output_type": "display_data"
    }
   ],
   "source": [
    "xlim(1,Lmax)\n",
    "loglog(L,Lfac*Nkk,label='lens')\n",
    "loglog(L,Nss,label='src')\n",
    "loglog(L,Lfac*Nl_BH[:,0,0],label='lens-BH')\n",
    "loglog(L,Nl_BH[:,1,1],label='src-BH')\n",
    "legend()"
   ]
  },
  {
   "cell_type": "code",
   "execution_count": 23,
   "metadata": {},
   "outputs": [],
   "source": [
    "Nkk_BH = (Nkk-2*Rks*Nks+Rks**2*Nss)/(1-Rsk*Rks)"
   ]
  },
  {
   "cell_type": "code",
   "execution_count": 24,
   "metadata": {},
   "outputs": [
    {
     "data": {
      "text/plain": [
       "[<matplotlib.lines.Line2D at 0x2aaad7185d68>]"
      ]
     },
     "execution_count": 24,
     "metadata": {},
     "output_type": "execute_result"
    },
    {
     "data": {
      "image/png": "[encoded data removed]",
      "text/plain": [
       "<Figure size 432x288 with 1 Axes>"
      ]
     },
     "metadata": {
      "needs_background": "light"
     },
     "output_type": "display_data"
    }
   ],
   "source": [
    "loglog(L,Lfac*Nl_BH[:,0,0],label='lens-BH')\n",
    "loglog(L,Lfac*Nkk_BH,label='lens-BH',ls='--')"
   ]
  },
  {
   "cell_type": "code",
   "execution_count": null,
   "metadata": {},
   "outputs": [],
   "source": []
  }
 ],
 "metadata": {
  "kernelspec": {
   "display_name": "Python 3",
   "language": "python",
   "name": "python3"
  },
  "language_info": {
   "codemirror_mode": {
    "name": "ipython",
    "version": 3
   },
   "file_extension": ".py",
   "mimetype": "text/x-python",
   "name": "python",
   "nbconvert_exporter": "python",
   "pygments_lexer": "ipython3",
   "version": "3.7.2"
  }
 },
 "nbformat": 4,
 "nbformat_minor": 4
}
