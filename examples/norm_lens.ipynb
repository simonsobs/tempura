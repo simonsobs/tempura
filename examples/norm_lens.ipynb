{
 "cells": [
  {
   "cell_type": "markdown",
   "metadata": {},
   "source": [
    "# A simple example of lensing estimator normalization calculation\n",
    "This code compute normalization of quadratic estiamtors"
   ]
  },
  {
   "cell_type": "code",
   "execution_count": 1,
   "metadata": {},
   "outputs": [],
   "source": [
    "# external\n",
    "import numpy as np, sys\n",
    "from matplotlib.pyplot import *"
   ]
  },
  {
   "cell_type": "code",
   "execution_count": 2,
   "metadata": {},
   "outputs": [],
   "source": [
    "# add path to tempura\n",
    "path_to_tempura = \"/global/homes/t/toshiyan/Work/Lib/tempura_dev/\" # please change this path\n",
    "sys.path.append(path_to_tempura) # example\n",
    "import pytempura as cs"
   ]
  },
  {
   "cell_type": "markdown",
   "metadata": {},
   "source": [
    "First define parameters"
   ]
  },
  {
   "cell_type": "code",
   "execution_count": 3,
   "metadata": {},
   "outputs": [],
   "source": [
    "Tcmb  = 2.726e6    # CMB temperature\n",
    "Lmax  = 3000       # maximum multipole of output normalization\n",
    "lmax  = 3000\n",
    "rlmin, rlmax = 100, 3000  # CMB multipole range for reconstruction\n",
    "L = np.linspace(0,Lmax,Lmax+1)\n",
    "l = L.copy()\n",
    "Lfac = (L*(L+1.))**2/(2*np.pi)"
   ]
  },
  {
   "cell_type": "markdown",
   "metadata": {},
   "source": [
    "Load arrays of lensed CMB Cls. The Cls should not be multiplied by any factors and should not have units.  "
   ]
  },
  {
   "cell_type": "code",
   "execution_count": 4,
   "metadata": {},
   "outputs": [],
   "source": [
    "lcl = np.zeros((4,lmax+1)) # TT, EE, BB, TE\n",
    "lcl[:,2:] = np.loadtxt('data/lensedcls.dat',unpack=True,usecols=(1,2,3,4))[:,:lmax-1] \n",
    "lcl *= 2.*np.pi / (l**2+l+1e-30) / Tcmb**2"
   ]
  },
  {
   "cell_type": "markdown",
   "metadata": {},
   "source": [
    "Define observed CMB cls. Here, no CMB noise."
   ]
  },
  {
   "cell_type": "code",
   "execution_count": 5,
   "metadata": {},
   "outputs": [],
   "source": [
    "ocl = lcl*1. # observed Cl (here, no CMB noise)"
   ]
  },
  {
   "cell_type": "markdown",
   "metadata": {},
   "source": [
    "### Compute normalization"
   ]
  },
  {
   "cell_type": "markdown",
   "metadata": {},
   "source": [
    "QDO below specifies which normalizations will be computed: TT, TE, EE, TB, EB, BB (currently BB is ignored even if you set True)"
   ]
  },
  {
   "cell_type": "markdown",
   "metadata": {},
   "source": [
    "MV is also automatically computed from these specified estimators"
   ]
  },
  {
   "cell_type": "code",
   "execution_count": 6,
   "metadata": {},
   "outputs": [],
   "source": [
    "QDO = [True,True,True,True,True,False] # this means that TT, TE, EE, TB and EB are used for MV estimator"
   ]
  },
  {
   "cell_type": "markdown",
   "metadata": {},
   "source": [
    "\"Wg\" (\"Wc\") below is the optimal weight for constructing the MV estimator; $$\\phi^{MV} = A^{MV}\\sum_q W_q \\phi^q$$ where $W$ is Wg (Wc) and $q = TT, TE, \\dots$. \n",
    "BB is not output, and the array has 6 normalizations (TT, TE, EE, TB, EB and MV)"
   ]
  },
  {
   "cell_type": "code",
   "execution_count": 7,
   "metadata": {},
   "outputs": [],
   "source": [
    "Ag, Ac, Wg, Wc = cs.norm_lens.qall(QDO,Lmax,rlmin,rlmax,lcl,ocl)"
   ]
  },
  {
   "cell_type": "code",
   "execution_count": 8,
   "metadata": {},
   "outputs": [
    {
     "data": {
      "text/plain": [
       "<matplotlib.legend.Legend at 0x2aaad3cca8d0>"
      ]
     },
     "execution_count": 8,
     "metadata": {},
     "output_type": "execute_result"
    },
    {
     "data": {
      "image/png": "[encoded data removed]",
      "text/plain": [
       "<Figure size 432x288 with 1 Axes>"
      ]
     },
     "metadata": {
      "needs_background": "light"
     },
     "output_type": "display_data"
    }
   ],
   "source": [
    "# plot spectra (gradient)\n",
    "xlim(2,Lmax)\n",
    "xscale('log')\n",
    "yscale('log')\n",
    "for i, q in enumerate(['TT','TE','EE','TB','EB','MV']):\n",
    "    plot(L,Lfac*Ag[i],label=q)\n",
    "legend()"
   ]
  },
  {
   "cell_type": "code",
   "execution_count": null,
   "metadata": {},
   "outputs": [],
   "source": []
  }
 ],
 "metadata": {
  "kernelspec": {
   "display_name": "Python 3",
   "language": "python",
   "name": "python3"
  },
  "language_info": {
   "codemirror_mode": {
    "name": "ipython",
    "version": 3
   },
   "file_extension": ".py",
   "mimetype": "text/x-python",
   "name": "python",
   "nbconvert_exporter": "python",
   "pygments_lexer": "ipython3",
   "version": "3.7.2"
  }
 },
 "nbformat": 4,
 "nbformat_minor": 4
}
